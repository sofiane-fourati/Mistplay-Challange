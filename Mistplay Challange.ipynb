{
 "cells": [
  {
   "cell_type": "code",
   "execution_count": 197,
   "metadata": {
    "collapsed": true
   },
   "outputs": [],
   "source": [
    "import pandas as pd\n",
    "import numpy as np\n",
    "import matplotlib.pyplot as plt"
   ]
  },
  {
   "cell_type": "code",
   "execution_count": 198,
   "metadata": {
    "collapsed": true
   },
   "outputs": [],
   "source": [
    "df = pd.read_csv(\"DataScienceChallenge.csv\", sep=',')"
   ]
  },
  {
   "cell_type": "code",
   "execution_count": 199,
   "metadata": {},
   "outputs": [
    {
     "data": {
      "text/plain": [
       "Index(['x1', 'x2', 'x3', 'x4', 'x5', 'x6', 'y', 'x7', 'x8', 'x9', 'x10', 'x11',\n",
       "       'x12', 'x13', 'x14', 'x15', 'x16', 'x17', 'x18', 'x19', 'x20', 'x21',\n",
       "       'x22', 'x23', 'x24', 'x25', 'x26', 'Unnamed: 27', 'Unnamed: 28'],\n",
       "      dtype='object')"
      ]
     },
     "execution_count": 199,
     "metadata": {},
     "output_type": "execute_result"
    }
   ],
   "source": [
    "df.columns"
   ]
  },
  {
   "cell_type": "code",
   "execution_count": 200,
   "metadata": {},
   "outputs": [
    {
     "data": {
      "text/plain": [
       "Series([], Name: y, dtype: int64)"
      ]
     },
     "execution_count": 200,
     "metadata": {},
     "output_type": "execute_result"
    }
   ],
   "source": [
    "df[df[\"y\"]<0][\"y\"].value_counts()"
   ]
  },
  {
   "cell_type": "markdown",
   "metadata": {},
   "source": [
    "y is only positive"
   ]
  },
  {
   "cell_type": "code",
   "execution_count": 201,
   "metadata": {},
   "outputs": [
    {
     "data": {
      "text/html": [
       "<div>\n",
       "<style scoped>\n",
       "    .dataframe tbody tr th:only-of-type {\n",
       "        vertical-align: middle;\n",
       "    }\n",
       "\n",
       "    .dataframe tbody tr th {\n",
       "        vertical-align: top;\n",
       "    }\n",
       "\n",
       "    .dataframe thead th {\n",
       "        text-align: right;\n",
       "    }\n",
       "</style>\n",
       "<table border=\"1\" class=\"dataframe\">\n",
       "  <thead>\n",
       "    <tr style=\"text-align: right;\">\n",
       "      <th></th>\n",
       "      <th>x6</th>\n",
       "      <th>y</th>\n",
       "      <th>x7</th>\n",
       "      <th>x9</th>\n",
       "      <th>x10</th>\n",
       "      <th>x11</th>\n",
       "      <th>x12</th>\n",
       "      <th>x13</th>\n",
       "      <th>x14</th>\n",
       "      <th>x18</th>\n",
       "      <th>x19</th>\n",
       "      <th>x20</th>\n",
       "      <th>x21</th>\n",
       "      <th>x22</th>\n",
       "      <th>Unnamed: 28</th>\n",
       "    </tr>\n",
       "  </thead>\n",
       "  <tbody>\n",
       "    <tr>\n",
       "      <th>count</th>\n",
       "      <td>10000.000000</td>\n",
       "      <td>10000.000000</td>\n",
       "      <td>10000.000000</td>\n",
       "      <td>10000.000000</td>\n",
       "      <td>10000.000000</td>\n",
       "      <td>10000.000000</td>\n",
       "      <td>10000.000000</td>\n",
       "      <td>10000.000000</td>\n",
       "      <td>10000.000000</td>\n",
       "      <td>10000.000000</td>\n",
       "      <td>10000.000000</td>\n",
       "      <td>10000.000000</td>\n",
       "      <td>10000.000000</td>\n",
       "      <td>10000.000000</td>\n",
       "      <td>1.0</td>\n",
       "    </tr>\n",
       "    <tr>\n",
       "      <th>mean</th>\n",
       "      <td>1989.585900</td>\n",
       "      <td>0.427953</td>\n",
       "      <td>28.212400</td>\n",
       "      <td>2.400900</td>\n",
       "      <td>0.722100</td>\n",
       "      <td>0.027339</td>\n",
       "      <td>0.165077</td>\n",
       "      <td>0.055035</td>\n",
       "      <td>74.486500</td>\n",
       "      <td>0.037900</td>\n",
       "      <td>0.020500</td>\n",
       "      <td>0.350800</td>\n",
       "      <td>0.540200</td>\n",
       "      <td>0.041300</td>\n",
       "      <td>3.0</td>\n",
       "    </tr>\n",
       "    <tr>\n",
       "      <th>std</th>\n",
       "      <td>22.920972</td>\n",
       "      <td>20.726503</td>\n",
       "      <td>11.398424</td>\n",
       "      <td>2.319335</td>\n",
       "      <td>0.844596</td>\n",
       "      <td>0.034747</td>\n",
       "      <td>0.111654</td>\n",
       "      <td>0.369048</td>\n",
       "      <td>49.218869</td>\n",
       "      <td>0.190964</td>\n",
       "      <td>0.155827</td>\n",
       "      <td>0.477244</td>\n",
       "      <td>0.498406</td>\n",
       "      <td>0.198993</td>\n",
       "      <td>NaN</td>\n",
       "    </tr>\n",
       "    <tr>\n",
       "      <th>min</th>\n",
       "      <td>1.000000</td>\n",
       "      <td>0.000000</td>\n",
       "      <td>0.000000</td>\n",
       "      <td>0.000000</td>\n",
       "      <td>0.000000</td>\n",
       "      <td>0.000000</td>\n",
       "      <td>0.000000</td>\n",
       "      <td>0.000000</td>\n",
       "      <td>0.000000</td>\n",
       "      <td>0.000000</td>\n",
       "      <td>0.000000</td>\n",
       "      <td>0.000000</td>\n",
       "      <td>0.000000</td>\n",
       "      <td>0.000000</td>\n",
       "      <td>3.0</td>\n",
       "    </tr>\n",
       "    <tr>\n",
       "      <th>25%</th>\n",
       "      <td>1984.000000</td>\n",
       "      <td>0.000000</td>\n",
       "      <td>20.000000</td>\n",
       "      <td>1.000000</td>\n",
       "      <td>0.000000</td>\n",
       "      <td>0.000000</td>\n",
       "      <td>0.080720</td>\n",
       "      <td>0.000000</td>\n",
       "      <td>42.000000</td>\n",
       "      <td>0.000000</td>\n",
       "      <td>0.000000</td>\n",
       "      <td>0.000000</td>\n",
       "      <td>0.000000</td>\n",
       "      <td>0.000000</td>\n",
       "      <td>3.0</td>\n",
       "    </tr>\n",
       "    <tr>\n",
       "      <th>50%</th>\n",
       "      <td>1993.000000</td>\n",
       "      <td>0.000000</td>\n",
       "      <td>25.000000</td>\n",
       "      <td>2.000000</td>\n",
       "      <td>1.000000</td>\n",
       "      <td>0.018692</td>\n",
       "      <td>0.144578</td>\n",
       "      <td>0.000000</td>\n",
       "      <td>61.000000</td>\n",
       "      <td>0.000000</td>\n",
       "      <td>0.000000</td>\n",
       "      <td>0.000000</td>\n",
       "      <td>1.000000</td>\n",
       "      <td>0.000000</td>\n",
       "      <td>3.0</td>\n",
       "    </tr>\n",
       "    <tr>\n",
       "      <th>75%</th>\n",
       "      <td>1998.000000</td>\n",
       "      <td>0.000000</td>\n",
       "      <td>34.000000</td>\n",
       "      <td>3.000000</td>\n",
       "      <td>1.000000</td>\n",
       "      <td>0.041096</td>\n",
       "      <td>0.226441</td>\n",
       "      <td>0.000000</td>\n",
       "      <td>93.000000</td>\n",
       "      <td>0.000000</td>\n",
       "      <td>0.000000</td>\n",
       "      <td>1.000000</td>\n",
       "      <td>1.000000</td>\n",
       "      <td>0.000000</td>\n",
       "      <td>3.0</td>\n",
       "    </tr>\n",
       "    <tr>\n",
       "      <th>max</th>\n",
       "      <td>2006.000000</td>\n",
       "      <td>2000.000000</td>\n",
       "      <td>100.000000</td>\n",
       "      <td>26.000000</td>\n",
       "      <td>4.000000</td>\n",
       "      <td>1.000000</td>\n",
       "      <td>1.000000</td>\n",
       "      <td>7.000000</td>\n",
       "      <td>976.000000</td>\n",
       "      <td>1.000000</td>\n",
       "      <td>7.000000</td>\n",
       "      <td>1.000000</td>\n",
       "      <td>1.000000</td>\n",
       "      <td>1.000000</td>\n",
       "      <td>3.0</td>\n",
       "    </tr>\n",
       "  </tbody>\n",
       "</table>\n",
       "</div>"
      ],
      "text/plain": [
       "                 x6             y            x7            x9           x10  \\\n",
       "count  10000.000000  10000.000000  10000.000000  10000.000000  10000.000000   \n",
       "mean    1989.585900      0.427953     28.212400      2.400900      0.722100   \n",
       "std       22.920972     20.726503     11.398424      2.319335      0.844596   \n",
       "min        1.000000      0.000000      0.000000      0.000000      0.000000   \n",
       "25%     1984.000000      0.000000     20.000000      1.000000      0.000000   \n",
       "50%     1993.000000      0.000000     25.000000      2.000000      1.000000   \n",
       "75%     1998.000000      0.000000     34.000000      3.000000      1.000000   \n",
       "max     2006.000000   2000.000000    100.000000     26.000000      4.000000   \n",
       "\n",
       "                x11           x12           x13           x14           x18  \\\n",
       "count  10000.000000  10000.000000  10000.000000  10000.000000  10000.000000   \n",
       "mean       0.027339      0.165077      0.055035     74.486500      0.037900   \n",
       "std        0.034747      0.111654      0.369048     49.218869      0.190964   \n",
       "min        0.000000      0.000000      0.000000      0.000000      0.000000   \n",
       "25%        0.000000      0.080720      0.000000     42.000000      0.000000   \n",
       "50%        0.018692      0.144578      0.000000     61.000000      0.000000   \n",
       "75%        0.041096      0.226441      0.000000     93.000000      0.000000   \n",
       "max        1.000000      1.000000      7.000000    976.000000      1.000000   \n",
       "\n",
       "                x19           x20           x21           x22  Unnamed: 28  \n",
       "count  10000.000000  10000.000000  10000.000000  10000.000000          1.0  \n",
       "mean       0.020500      0.350800      0.540200      0.041300          3.0  \n",
       "std        0.155827      0.477244      0.498406      0.198993          NaN  \n",
       "min        0.000000      0.000000      0.000000      0.000000          3.0  \n",
       "25%        0.000000      0.000000      0.000000      0.000000          3.0  \n",
       "50%        0.000000      0.000000      1.000000      0.000000          3.0  \n",
       "75%        0.000000      1.000000      1.000000      0.000000          3.0  \n",
       "max        7.000000      1.000000      1.000000      1.000000          3.0  "
      ]
     },
     "execution_count": 201,
     "metadata": {},
     "output_type": "execute_result"
    }
   ],
   "source": [
    "df.describe()"
   ]
  },
  {
   "cell_type": "code",
   "execution_count": 202,
   "metadata": {},
   "outputs": [
    {
     "data": {
      "text/plain": [
       "0"
      ]
     },
     "execution_count": 202,
     "metadata": {},
     "output_type": "execute_result"
    }
   ],
   "source": [
    "len(df) - len(df[\"x1\"].unique())"
   ]
  },
  {
   "cell_type": "markdown",
   "metadata": {},
   "source": [
    "No duplication in the ID column so it must be the index"
   ]
  },
  {
   "cell_type": "code",
   "execution_count": 203,
   "metadata": {
    "collapsed": true
   },
   "outputs": [],
   "source": [
    "df.set_index(\"x1\", inplace=True)"
   ]
  },
  {
   "cell_type": "code",
   "execution_count": 204,
   "metadata": {},
   "outputs": [
    {
     "data": {
      "text/plain": [
       "8.0.0    3454\n",
       "7        1729\n",
       "8.1.0    1474\n",
       "7.1.1     931\n",
       "6.0.1     905\n",
       "9         474\n",
       "7.1.2     309\n",
       "5.1.1     295\n",
       "6         207\n",
       "4.4.2      61\n",
       "5.1        55\n",
       "5          37\n",
       "5.0.1      28\n",
       "5.0.2      26\n",
       "4.4.4      12\n",
       "7.1         1\n",
       "4.4         1\n",
       "4.4.3       1\n",
       "Name: x2, dtype: int64"
      ]
     },
     "execution_count": 204,
     "metadata": {},
     "output_type": "execute_result"
    }
   ],
   "source": [
    "df[\"x2\"].value_counts()"
   ]
  },
  {
   "cell_type": "markdown",
   "metadata": {},
   "source": [
    "X2 must be the version of Android"
   ]
  },
  {
   "cell_type": "code",
   "execution_count": 205,
   "metadata": {},
   "outputs": [
    {
     "data": {
      "text/plain": [
       "samsung_SM-G950F                                217\n",
       "samsung_SM-G960U                                207\n",
       "samsung_SM-G950U                                192\n",
       "samsung_SM-G965U                                143\n",
       "samsung_SM-N960U                                140\n",
       "samsung_SM-G930F                                140\n",
       "LGE_LGMP260                                     139\n",
       "LGE_LM-X210(G)                                  138\n",
       "samsung_SM-N950U                                131\n",
       "samsung_SM-G960F                                130\n",
       "samsung_SM-J327T1                               126\n",
       "samsung_SM-G935F                                122\n",
       "samsung_SM-S327VL                               119\n",
       "motorola_Moto E (4)                             118\n",
       "samsung_SM-G955U                                114\n",
       "samsung_SM-G965F                                106\n",
       "LGE_LM-Q710(FGN)                                100\n",
       "samsung_SM-G955F                                 91\n",
       "motorola_moto e5 play                            85\n",
       "samsung_SM-J727T1                                77\n",
       "samsung_SM-J327P                                 73\n",
       "HUAWEI_ANE-LX1                                   70\n",
       "motorola_moto e5 cruise                          67\n",
       "samsung_SM-S727VL                                65\n",
       "samsung_SM-G920F                                 64\n",
       "LGE_LG-SP200                                     61\n",
       "LGE_LG-LS777                                     61\n",
       "LGE_LG-Q710AL                                    61\n",
       "samsung_SM-A520W                                 61\n",
       "samsung_SM-N950F                                 59\n",
       "                                               ... \n",
       "ZTE_Z957                                          1\n",
       "OPPO_RMX1805                                      1\n",
       "Vodafone_VFD 820                                  1\n",
       "TCL_5017B                                         1\n",
       "NUU_N5501L                                        1\n",
       "samsung_SAMSUNG-SGH-I257                          1\n",
       "Doro_swisstone SD 530                             1\n",
       "samsung_SM-N915G                                  1\n",
       "samsung_SM-T320                                   1\n",
       "HUAWEI_H60-L04                                    1\n",
       "ZTE_Z832                                          1\n",
       "ANS_NKS_AQT80                                     1\n",
       "Hewlett-Packard_HP Compaq 8200 Elite USDT PC      1\n",
       "Vodafone_VFD 720                                  1\n",
       "BLU_Advance 5.2                                   1\n",
       "BLU_BLU DASH M2                                   1\n",
       "Proscan_PLT9999G                                  1\n",
       "samsung_SM-T387AA                                 1\n",
       "Teleepoch_U673C                                   1\n",
       "google_Nexus 5                                    1\n",
       "samsung_SM-T530                                   1\n",
       "samsung_SM-J727R4                                 1\n",
       "Acer_B1-850                                       1\n",
       "LENOVO_TB-X704A                                   1\n",
       "samsung_SM-T825                                   1\n",
       "asus_ASUS_X01BDA                                  1\n",
       "Archos_BUSH SPIRA E4X                             1\n",
       "samsung_SM-J600F                                  1\n",
       "DOOGEE_S60                                        1\n",
       "ZTE_ZTE BLADE B112                                1\n",
       "Name: x3, Length: 1320, dtype: int64"
      ]
     },
     "execution_count": 205,
     "metadata": {},
     "output_type": "execute_result"
    }
   ],
   "source": [
    "df[\"x3\"].value_counts()"
   ]
  },
  {
   "cell_type": "markdown",
   "metadata": {},
   "source": [
    "X3 is the device type"
   ]
  },
  {
   "cell_type": "code",
   "execution_count": 206,
   "metadata": {},
   "outputs": [
    {
     "data": {
      "text/plain": [
       "US                  5765\n",
       "GB                   870\n",
       "CA                   687\n",
       "FR                   411\n",
       "SG                   407\n",
       "SE                   331\n",
       "FI                   328\n",
       "AU                   297\n",
       "NZ                   278\n",
       "DK                   212\n",
       "DE                   186\n",
       "NO                   134\n",
       "CA_US                 18\n",
       "MX                     8\n",
       "MY                     7\n",
       "VN                     6\n",
       "NL                     5\n",
       "AT                     2\n",
       "NZ_US                  2\n",
       "CH                     2\n",
       "MX_US                  2\n",
       "DK_US                  2\n",
       "TR                     2\n",
       "GB_US                  2\n",
       "ES                     2\n",
       "TH                     2\n",
       "PL                     1\n",
       "BA                     1\n",
       "GH                     1\n",
       "GB_SG                  1\n",
       "CA_NZ_US               1\n",
       "IN                     1\n",
       "GB_IL                  1\n",
       "PT                     1\n",
       "GR                     1\n",
       "US_other               1\n",
       "AT_DE                  1\n",
       "IE                     1\n",
       "LTD._NS-P11A8100       1\n",
       "PE                     1\n",
       "KR                     1\n",
       "DE_GB_US               1\n",
       "HK_SG                  1\n",
       "JP                     1\n",
       "SG_US                  1\n",
       "NO_SE                  1\n",
       "DK_LT                  1\n",
       "AU_GB_US               1\n",
       "CA_GB_US               1\n",
       "SA                     1\n",
       "EU_GB                  1\n",
       "AU_GB                  1\n",
       "DZ                     1\n",
       "TR_US_VE               1\n",
       "GB_NL_US               1\n",
       "FR_RO                  1\n",
       "DK_SE                  1\n",
       "AU_SG                  1\n",
       "Name: x4, dtype: int64"
      ]
     },
     "execution_count": 206,
     "metadata": {},
     "output_type": "execute_result"
    }
   ],
   "source": [
    "df[\"x4\"].value_counts()"
   ]
  },
  {
   "cell_type": "markdown",
   "metadata": {},
   "source": [
    "Nationality(ies) of users maybe"
   ]
  },
  {
   "cell_type": "code",
   "execution_count": 207,
   "metadata": {},
   "outputs": [
    {
     "data": {
      "text/plain": [
       "0     6285\n",
       "1     3508\n",
       "2      206\n",
       "US       1\n",
       "Name: x5, dtype: int64"
      ]
     },
     "execution_count": 207,
     "metadata": {},
     "output_type": "execute_result"
    }
   ],
   "source": [
    "df[\"x5\"].value_counts()"
   ]
  },
  {
   "cell_type": "markdown",
   "metadata": {},
   "source": [
    "There is an extra element who couldn't help training the dataset, maybe will be removed"
   ]
  },
  {
   "cell_type": "code",
   "execution_count": 208,
   "metadata": {},
   "outputs": [
    {
     "data": {
      "text/plain": [
       "2000    819\n",
       "1995    811\n",
       "1996    617\n",
       "1999    541\n",
       "1998    428\n",
       "1997    399\n",
       "1990    389\n",
       "1994    330\n",
       "2005    303\n",
       "1993    302\n",
       "1992    292\n",
       "1991    266\n",
       "1989    265\n",
       "1986    236\n",
       "1987    233\n",
       "1988    225\n",
       "1985    222\n",
       "1984    188\n",
       "1982    180\n",
       "1983    180\n",
       "2001    165\n",
       "1980    165\n",
       "2004    162\n",
       "1981    158\n",
       "1979    154\n",
       "2003    151\n",
       "1977    128\n",
       "1978    125\n",
       "2002    125\n",
       "1975    120\n",
       "       ... \n",
       "1959     29\n",
       "1960     28\n",
       "1955     20\n",
       "1957     19\n",
       "1958     19\n",
       "1956     15\n",
       "1953     12\n",
       "1954     10\n",
       "1952      6\n",
       "1950      5\n",
       "1948      5\n",
       "1918      4\n",
       "1919      3\n",
       "1951      3\n",
       "1947      2\n",
       "1949      2\n",
       "1946      2\n",
       "1926      1\n",
       "1944      1\n",
       "1934      1\n",
       "1935      1\n",
       "1         1\n",
       "1929      1\n",
       "1937      1\n",
       "1927      1\n",
       "1930      1\n",
       "1940      1\n",
       "1931      1\n",
       "1939      1\n",
       "1920      1\n",
       "Name: x6, Length: 76, dtype: int64"
      ]
     },
     "execution_count": 208,
     "metadata": {},
     "output_type": "execute_result"
    }
   ],
   "source": [
    "df[\"x6\"].value_counts()"
   ]
  },
  {
   "cell_type": "markdown",
   "metadata": {},
   "source": [
    "Birth year of users and having a person who came to the world in the year \"1\" ?"
   ]
  },
  {
   "cell_type": "code",
   "execution_count": 209,
   "metadata": {},
   "outputs": [
    {
     "data": {
      "text/plain": [
       "18     819\n",
       "23     811\n",
       "22     617\n",
       "19     541\n",
       "20     428\n",
       "21     399\n",
       "28     389\n",
       "24     330\n",
       "13     303\n",
       "25     302\n",
       "26     292\n",
       "27     266\n",
       "29     265\n",
       "32     236\n",
       "31     233\n",
       "30     225\n",
       "33     222\n",
       "34     188\n",
       "36     180\n",
       "35     180\n",
       "17     165\n",
       "38     165\n",
       "14     162\n",
       "37     158\n",
       "39     154\n",
       "15     151\n",
       "41     128\n",
       "40     125\n",
       "16     125\n",
       "43     120\n",
       "      ... \n",
       "59      29\n",
       "58      28\n",
       "63      20\n",
       "60      19\n",
       "61      19\n",
       "62      15\n",
       "65      12\n",
       "64      10\n",
       "66       6\n",
       "68       5\n",
       "70       5\n",
       "100      4\n",
       "99       3\n",
       "67       3\n",
       "72       2\n",
       "71       2\n",
       "69       2\n",
       "88       1\n",
       "87       1\n",
       "81       1\n",
       "89       1\n",
       "74       1\n",
       "98       1\n",
       "83       1\n",
       "91       1\n",
       "79       1\n",
       "84       1\n",
       "92       1\n",
       "78       1\n",
       "0        1\n",
       "Name: x7, Length: 76, dtype: int64"
      ]
     },
     "execution_count": 209,
     "metadata": {},
     "output_type": "execute_result"
    }
   ],
   "source": [
    "df[\"x7\"].value_counts()"
   ]
  },
  {
   "cell_type": "markdown",
   "metadata": {},
   "source": [
    "I guess it's the age of users so the column x6 can be removed"
   ]
  },
  {
   "cell_type": "code",
   "execution_count": 210,
   "metadata": {},
   "outputs": [
    {
     "data": {
      "text/plain": [
       "2018    9999\n",
       "1          1\n",
       "dtype: int64"
      ]
     },
     "execution_count": 210,
     "metadata": {},
     "output_type": "execute_result"
    }
   ],
   "source": [
    "(df[\"x6\"] + df[\"x7\"]).value_counts()"
   ]
  },
  {
   "cell_type": "code",
   "execution_count": 211,
   "metadata": {},
   "outputs": [
    {
     "name": "stdout",
     "output_type": "stream",
     "text": [
      "[ True]\n"
     ]
    }
   ],
   "source": [
    "print(df[df[\"x6\"]==1].index == df[df[\"x7\"]==0].index)"
   ]
  },
  {
   "cell_type": "markdown",
   "metadata": {},
   "source": [
    "Bingo ! this is right, the column x6 can be removed with the person who is born at the first year (the same one who it's age is 0)"
   ]
  },
  {
   "cell_type": "code",
   "execution_count": 212,
   "metadata": {
    "collapsed": true
   },
   "outputs": [],
   "source": [
    "df.drop(\"x6\", axis=1, inplace=True)\n",
    "df.drop(df[df[\"x7\"]==0].index, axis=0, inplace=True )"
   ]
  },
  {
   "cell_type": "code",
   "execution_count": 213,
   "metadata": {},
   "outputs": [
    {
     "data": {
      "text/plain": [
       "0    9801\n",
       "1     182\n",
       "2      14\n",
       "3       2\n",
       "Name: x8, dtype: int64"
      ]
     },
     "execution_count": 213,
     "metadata": {},
     "output_type": "execute_result"
    }
   ],
   "source": [
    "df[\"x8\"].value_counts()"
   ]
  },
  {
   "cell_type": "code",
   "execution_count": 214,
   "metadata": {},
   "outputs": [
    {
     "data": {
      "text/plain": [
       "1     2455\n",
       "2     2049\n",
       "0     1772\n",
       "3     1383\n",
       "4      941\n",
       "5      523\n",
       "6      304\n",
       "7      215\n",
       "8      122\n",
       "9       81\n",
       "10      50\n",
       "11      28\n",
       "12      19\n",
       "13      16\n",
       "14      16\n",
       "16       7\n",
       "15       6\n",
       "17       4\n",
       "19       4\n",
       "18       3\n",
       "26       1\n",
       "Name: x9, dtype: int64"
      ]
     },
     "execution_count": 214,
     "metadata": {},
     "output_type": "execute_result"
    }
   ],
   "source": [
    "df[\"x9\"].value_counts()"
   ]
  },
  {
   "cell_type": "code",
   "execution_count": 215,
   "metadata": {},
   "outputs": [
    {
     "data": {
      "text/plain": [
       "0    4831\n",
       "1    3577\n",
       "2    1182\n",
       "3     358\n",
       "4      51\n",
       "Name: x10, dtype: int64"
      ]
     },
     "execution_count": 215,
     "metadata": {},
     "output_type": "execute_result"
    }
   ],
   "source": [
    "df[\"x10\"].value_counts()"
   ]
  },
  {
   "cell_type": "code",
   "execution_count": 216,
   "metadata": {},
   "outputs": [
    {
     "data": {
      "text/plain": [
       "0.000000    3688\n",
       "0.025641      68\n",
       "0.025000      66\n",
       "0.038462      64\n",
       "0.024390      60\n",
       "0.030303      60\n",
       "0.034483      59\n",
       "0.028571      58\n",
       "0.027778      57\n",
       "0.026316      56\n",
       "0.032258      56\n",
       "0.021739      55\n",
       "0.047619      54\n",
       "0.022727      53\n",
       "0.019231      52\n",
       "0.043478      52\n",
       "0.019608      52\n",
       "0.033333      51\n",
       "0.041667      51\n",
       "0.020833      50\n",
       "0.022222      50\n",
       "0.021277      50\n",
       "0.023256      49\n",
       "0.035714      49\n",
       "0.027027      49\n",
       "0.031250      49\n",
       "0.020000      49\n",
       "0.058824      49\n",
       "0.055556      48\n",
       "0.062500      48\n",
       "            ... \n",
       "0.144330       1\n",
       "0.005291       1\n",
       "0.052219       1\n",
       "0.005263       1\n",
       "0.280702       1\n",
       "0.006944       1\n",
       "0.034364       1\n",
       "0.151899       1\n",
       "0.025862       1\n",
       "0.169355       1\n",
       "0.034965       1\n",
       "0.165775       1\n",
       "0.066225       1\n",
       "0.132450       1\n",
       "0.010152       1\n",
       "0.018987       1\n",
       "0.021622       1\n",
       "0.025907       1\n",
       "0.052941       1\n",
       "0.131868       1\n",
       "0.104762       1\n",
       "0.099291       1\n",
       "0.088496       1\n",
       "0.128571       1\n",
       "0.004132       1\n",
       "0.086486       1\n",
       "0.132353       1\n",
       "0.037634       1\n",
       "0.020690       1\n",
       "0.014563       1\n",
       "Name: x11, Length: 1148, dtype: int64"
      ]
     },
     "execution_count": 216,
     "metadata": {},
     "output_type": "execute_result"
    }
   ],
   "source": [
    "df[\"x11\"].value_counts()"
   ]
  },
  {
   "cell_type": "code",
   "execution_count": 217,
   "metadata": {},
   "outputs": [
    {
     "data": {
      "text/plain": [
       "0.000000    240\n",
       "0.200000     98\n",
       "0.166667     92\n",
       "0.125000     91\n",
       "0.142857     86\n",
       "0.100000     81\n",
       "0.250000     79\n",
       "0.090909     78\n",
       "0.111111     67\n",
       "0.083333     61\n",
       "0.066667     60\n",
       "0.181818     58\n",
       "0.153846     58\n",
       "0.076923     56\n",
       "0.333333     52\n",
       "0.071429     51\n",
       "0.117647     50\n",
       "0.133333     49\n",
       "0.062500     49\n",
       "0.222222     44\n",
       "0.052632     44\n",
       "0.150000     41\n",
       "0.058824     40\n",
       "0.105263     40\n",
       "0.157895     38\n",
       "0.095238     37\n",
       "0.176471     36\n",
       "0.080000     36\n",
       "0.120000     35\n",
       "0.136364     35\n",
       "           ... \n",
       "0.025126      1\n",
       "0.085561      1\n",
       "0.311927      1\n",
       "0.046632      1\n",
       "0.387387      1\n",
       "0.420118      1\n",
       "0.183007      1\n",
       "0.082474      1\n",
       "0.040984      1\n",
       "0.106742      1\n",
       "0.101562      1\n",
       "0.190184      1\n",
       "0.139665      1\n",
       "0.309942      1\n",
       "0.033708      1\n",
       "0.409836      1\n",
       "0.023952      1\n",
       "0.392523      1\n",
       "0.034014      1\n",
       "0.117188      1\n",
       "0.053691      1\n",
       "0.145038      1\n",
       "0.067114      1\n",
       "0.049383      1\n",
       "0.370968      1\n",
       "0.207692      1\n",
       "0.031621      1\n",
       "0.352273      1\n",
       "0.083969      1\n",
       "0.021583      1\n",
       "Name: x12, Length: 2262, dtype: int64"
      ]
     },
     "execution_count": 217,
     "metadata": {},
     "output_type": "execute_result"
    }
   ],
   "source": [
    "df[\"x12\"].value_counts()"
   ]
  },
  {
   "cell_type": "code",
   "execution_count": 218,
   "metadata": {},
   "outputs": [
    {
     "data": {
      "text/plain": [
       "0.0    9621\n",
       "1.0     309\n",
       "2.0      36\n",
       "6.0      11\n",
       "4.0       7\n",
       "7.0       7\n",
       "3.0       7\n",
       "5.0       1\n",
       "Name: x13, dtype: int64"
      ]
     },
     "execution_count": 218,
     "metadata": {},
     "output_type": "execute_result"
    }
   ],
   "source": [
    "df[\"x13\"].value_counts()"
   ]
  },
  {
   "cell_type": "code",
   "execution_count": 219,
   "metadata": {},
   "outputs": [
    {
     "data": {
      "text/plain": [
       "44     172\n",
       "43     159\n",
       "40     155\n",
       "42     154\n",
       "47     149\n",
       "46     148\n",
       "41     147\n",
       "51     144\n",
       "50     143\n",
       "39     143\n",
       "45     143\n",
       "53     140\n",
       "38     139\n",
       "52     137\n",
       "49     137\n",
       "58     134\n",
       "48     131\n",
       "33     130\n",
       "36     129\n",
       "55     123\n",
       "54     121\n",
       "60     119\n",
       "57     118\n",
       "37     118\n",
       "62     112\n",
       "35     110\n",
       "68     108\n",
       "34     108\n",
       "61     107\n",
       "31     107\n",
       "      ... \n",
       "346      1\n",
       "248      1\n",
       "365      1\n",
       "297      1\n",
       "289      1\n",
       "2        1\n",
       "265      1\n",
       "257      1\n",
       "836      1\n",
       "612      1\n",
       "468      1\n",
       "380      1\n",
       "268      1\n",
       "341      1\n",
       "349      1\n",
       "373      1\n",
       "256      1\n",
       "413      1\n",
       "260      1\n",
       "214      1\n",
       "210      1\n",
       "250      1\n",
       "290      1\n",
       "345      1\n",
       "976      1\n",
       "624      1\n",
       "408      1\n",
       "336      1\n",
       "280      1\n",
       "511      1\n",
       "Name: x14, Length: 301, dtype: int64"
      ]
     },
     "execution_count": 219,
     "metadata": {},
     "output_type": "execute_result"
    }
   ],
   "source": [
    "df[\"x14\"].value_counts()"
   ]
  },
  {
   "cell_type": "code",
   "execution_count": 220,
   "metadata": {},
   "outputs": [
    {
     "data": {
      "text/plain": [
       "samsung                   4867\n",
       "LGE                       1648\n",
       "HUAWEI                     824\n",
       "motorola                   604\n",
       "ZTE                        378\n",
       "OnePlus                    193\n",
       "Sony                       160\n",
       "OPPO                       160\n",
       "Google                     136\n",
       "TCL                        126\n",
       "Xiaomi                      98\n",
       "asus                        72\n",
       "AlcatelOneTouch             65\n",
       "HMD Global                  51\n",
       "ALCATEL                     50\n",
       "Alcatel                     48\n",
       "HTC                         45\n",
       "Alco                        44\n",
       "LENOVO                      36\n",
       "google                      29\n",
       "Coolpad                     27\n",
       "Yulong                      23\n",
       "BLU                         22\n",
       "Vodafone                    22\n",
       "WIKO                        15\n",
       "ANS                         15\n",
       "Razer                       14\n",
       "Acer                        13\n",
       "Blackview                   10\n",
       "Quanta                      10\n",
       "                          ... \n",
       "LG Electronics               1\n",
       "Amlogic                      1\n",
       "AMGOO                        1\n",
       "Hewlett-Packard              1\n",
       "Shaghal Ltd dBA Ematic       1\n",
       "Teclast                      1\n",
       "Ulefone                      1\n",
       "Elephone                     1\n",
       "MetroPCS                     1\n",
       "LG                           1\n",
       "Fortuneship                  1\n",
       "Motorola                     1\n",
       "Maze                         1\n",
       "SPA Condor Electronics       1\n",
       "blackshark                   1\n",
       "myPhone                      1\n",
       "UNIFONE                      1\n",
       "Gigaset                      1\n",
       "JTY                          1\n",
       "Just5                        1\n",
       "Teleepoch                    1\n",
       "meizu                        1\n",
       "MOLVU                        1\n",
       "rockchip                     1\n",
       "Foxconn                      1\n",
       "TECNO MOBILE LIMITED         1\n",
       "Elite 4                      1\n",
       "revoview                     1\n",
       "Umx                          1\n",
       "HAFURY                       1\n",
       "Name: x15, Length: 126, dtype: int64"
      ]
     },
     "execution_count": 220,
     "metadata": {},
     "output_type": "execute_result"
    }
   ],
   "source": [
    "df[\"x15\"].value_counts()"
   ]
  },
  {
   "cell_type": "markdown",
   "metadata": {},
   "source": [
    "Some duplicate values (for exemple google and Google) so UPPER all of them"
   ]
  },
  {
   "cell_type": "code",
   "execution_count": 221,
   "metadata": {},
   "outputs": [],
   "source": [
    "df[\"x15\"] = df[\"x15\"].str.upper()"
   ]
  },
  {
   "cell_type": "code",
   "execution_count": 222,
   "metadata": {},
   "outputs": [
    {
     "data": {
      "text/plain": [
       "SAMSUNG                   4867\n",
       "LGE                       1651\n",
       "HUAWEI                     827\n",
       "MOTOROLA                   605\n",
       "ZTE                        380\n",
       "ONEPLUS                    193\n",
       "GOOGLE                     165\n",
       "OPPO                       160\n",
       "SONY                       160\n",
       "TCL                        126\n",
       "ALCATEL                     98\n",
       "XIAOMI                      98\n",
       "ASUS                        72\n",
       "ALCATELONETOUCH             65\n",
       "HMD GLOBAL                  51\n",
       "HTC                         46\n",
       "ALCO                        44\n",
       "LENOVO                      40\n",
       "COOLPAD                     27\n",
       "YULONG                      23\n",
       "BLU                         22\n",
       "VODAFONE                    22\n",
       "ANS                         15\n",
       "WIKO                        15\n",
       "RAZER                       14\n",
       "ACER                        13\n",
       "BLACKVIEW                   10\n",
       "QUANTA                      10\n",
       "NUU                          9\n",
       "VIVO                         9\n",
       "                          ... \n",
       "UNIFONE                      1\n",
       "MYPHONE                      1\n",
       "AMLOGIC                      1\n",
       "FUXEN                        1\n",
       "TELEEPOCH                    1\n",
       "ENERGIZER                    1\n",
       "NUVISION                     1\n",
       "LG                           1\n",
       "TECNO MOBILE LIMITED         1\n",
       "PROSCAN                      1\n",
       "REVOVIEW                     1\n",
       "ELITE 4                      1\n",
       "MOLVU                        1\n",
       "JTY                          1\n",
       "ESSENTIAL PRODUCTS           1\n",
       "MALATA                       1\n",
       "LONGCHEER                    1\n",
       "CELLCOM                      1\n",
       "FORTUNESHIP                  1\n",
       "NOTE                         1\n",
       "FOXCONN                      1\n",
       "SHAGHAL LTD DBA EMATIC       1\n",
       "LEECO                        1\n",
       "METROPCS                     1\n",
       "UNNECTO                      1\n",
       "UMI                          1\n",
       "LG ELECTRONICS               1\n",
       "RELIANCE                     1\n",
       "VERVE CONNET                 1\n",
       "ESSENTIELB                   1\n",
       "Name: x15, Length: 114, dtype: int64"
      ]
     },
     "execution_count": 222,
     "metadata": {},
     "output_type": "execute_result"
    }
   ],
   "source": [
    "df[\"x15\"].value_counts()"
   ]
  },
  {
   "cell_type": "markdown",
   "metadata": {},
   "source": [
    "Some other problems like (LG and LG ELECTRONICS) gonna see this after if enough time"
   ]
  },
  {
   "cell_type": "code",
   "execution_count": 223,
   "metadata": {},
   "outputs": [
    {
     "data": {
      "text/plain": [
       "0    9706\n",
       "1     293\n",
       "Name: x16, dtype: int64"
      ]
     },
     "execution_count": 223,
     "metadata": {},
     "output_type": "execute_result"
    }
   ],
   "source": [
    "df[\"x16\"].value_counts()"
   ]
  },
  {
   "cell_type": "code",
   "execution_count": 224,
   "metadata": {},
   "outputs": [
    {
     "data": {
      "text/plain": [
       "8    4928\n",
       "7    2969\n",
       "6    1112\n",
       "9     474\n",
       "5     441\n",
       "4      75\n",
       "Name: x17, dtype: int64"
      ]
     },
     "execution_count": 224,
     "metadata": {},
     "output_type": "execute_result"
    }
   ],
   "source": [
    "df[\"x17\"].value_counts()"
   ]
  },
  {
   "cell_type": "code",
   "execution_count": 225,
   "metadata": {},
   "outputs": [
    {
     "data": {
      "text/plain": [
       "0    9621\n",
       "1     378\n",
       "Name: x18, dtype: int64"
      ]
     },
     "execution_count": 225,
     "metadata": {},
     "output_type": "execute_result"
    }
   ],
   "source": [
    "df[\"x18\"].value_counts()"
   ]
  },
  {
   "cell_type": "code",
   "execution_count": 226,
   "metadata": {},
   "outputs": [
    {
     "data": {
      "text/plain": [
       "0    9801\n",
       "1     198\n",
       "Name: x19, dtype: int64"
      ]
     },
     "execution_count": 226,
     "metadata": {},
     "output_type": "execute_result"
    }
   ],
   "source": [
    "df[\"x19\"].value_counts()"
   ]
  },
  {
   "cell_type": "code",
   "execution_count": 227,
   "metadata": {},
   "outputs": [
    {
     "data": {
      "text/plain": [
       "0    6491\n",
       "1    3508\n",
       "Name: x20, dtype: int64"
      ]
     },
     "execution_count": 227,
     "metadata": {},
     "output_type": "execute_result"
    }
   ],
   "source": [
    "df[\"x20\"].value_counts()"
   ]
  },
  {
   "cell_type": "code",
   "execution_count": 228,
   "metadata": {},
   "outputs": [
    {
     "data": {
      "text/plain": [
       "1    5402\n",
       "0    4597\n",
       "Name: x21, dtype: int64"
      ]
     },
     "execution_count": 228,
     "metadata": {},
     "output_type": "execute_result"
    }
   ],
   "source": [
    "df[\"x21\"].value_counts()"
   ]
  },
  {
   "cell_type": "code",
   "execution_count": 229,
   "metadata": {},
   "outputs": [
    {
     "data": {
      "text/plain": [
       "0    9587\n",
       "1     412\n",
       "Name: x22, dtype: int64"
      ]
     },
     "execution_count": 229,
     "metadata": {},
     "output_type": "execute_result"
    }
   ],
   "source": [
    "df[\"x22\"].value_counts()"
   ]
  },
  {
   "cell_type": "code",
   "execution_count": 230,
   "metadata": {},
   "outputs": [
    {
     "data": {
      "text/plain": [
       "TRUE     5952\n",
       "FALSE    4047\n",
       "Name: x23, dtype: int64"
      ]
     },
     "execution_count": 230,
     "metadata": {},
     "output_type": "execute_result"
    }
   ],
   "source": [
    "df[\"x23\"].value_counts()"
   ]
  },
  {
   "cell_type": "code",
   "execution_count": 231,
   "metadata": {},
   "outputs": [
    {
     "data": {
      "text/plain": [
       "komistplay-i27ca6ba3e32c55c    2669\n",
       "komistplay-i277fc4c38ac926c    1248\n",
       "573880939902959083              440\n",
       "komistplay-i278aa7320f12d13     342\n",
       "578274137794105583              268\n",
       "574253038517356133              260\n",
       "komistplay-i27bfe4daaba1aa4     206\n",
       "512399732703117729              163\n",
       "komistplay-i2748777614c52b2     158\n",
       "576465400783883159              150\n",
       "492786776143062094              120\n",
       "578273416764105287              109\n",
       "komistplay-i272fc84fda669f3     108\n",
       "282202902410497492               96\n",
       "586206336715673895               86\n",
       "568854315415129371               82\n",
       "492787488847698857               71\n",
       "576422175842834761               70\n",
       "459856103233242576               65\n",
       "381122606079794609               64\n",
       "586205984360772448               63\n",
       "497056817508328233               55\n",
       "576417976967144256               48\n",
       "komistplay-i273dcf86faab892      44\n",
       "komistplay-i27abe6a50fb8529      44\n",
       "489173088290878094               43\n",
       "578596448757830182               42\n",
       "568854641757307119               42\n",
       "578596649534875174               42\n",
       "568853918193827296               41\n",
       "                               ... \n",
       "614148268779555146                1\n",
       "459851089169425063                1\n",
       "606686408538795893                1\n",
       "591167834848171060                1\n",
       "547173203123001458                1\n",
       "604213122085105638                1\n",
       "586063585936126283                1\n",
       "625150923253472429                1\n",
       "612640385067904786                1\n",
       "626549599393902394                1\n",
       "623514808767143857                1\n",
       "622778608729227525                1\n",
       "595837944876066160                1\n",
       "613851494244553047                1\n",
       "619630175550163001                1\n",
       "616645790886469670                1\n",
       "609253593853803627                1\n",
       "611743194392606438                1\n",
       "615639312893166031                1\n",
       "587485019157943717                1\n",
       "591379931230336008                1\n",
       "600519360607922848                1\n",
       "617419786485958770                1\n",
       "569544007861399962                1\n",
       "588341571792425552                1\n",
       "584918778023152866                1\n",
       "609445163144183502                1\n",
       "612619461635649106                1\n",
       "600410008312016805                1\n",
       "600997993927344973                1\n",
       "Name: x24, Length: 440, dtype: int64"
      ]
     },
     "execution_count": 231,
     "metadata": {},
     "output_type": "execute_result"
    }
   ],
   "source": [
    "df[\"x24\"].value_counts()"
   ]
  },
  {
   "cell_type": "code",
   "execution_count": 232,
   "metadata": {},
   "outputs": [
    {
     "data": {
      "text/plain": [
       "Facebook                 2930\n",
       "Bidalgo - Facebook       2669\n",
       "Bidalgo - Instagram      1248\n",
       "Fluent                    342\n",
       "YouTube                   192\n",
       "Google Adwords            158\n",
       "Fyber - Android           127\n",
       "UnityAds - Android        108\n",
       "Snapchat                   17\n",
       "Youtube                    15\n",
       "Bidalgo - Snapchat         15\n",
       "YeahMobi                   12\n",
       "AppLovin - Android          9\n",
       "App Samurai - Android       9\n",
       "Instagram                   6\n",
       "TapJoy - Android            5\n",
       "S1bVnL4qM                   5\n",
       "HJY9lKXvG                   3\n",
       "U6APtP6dD                   3\n",
       "CxssTFyT8                   3\n",
       "HWy431lw4                   3\n",
       "rJCLgqHf7                   3\n",
       "Tz9Rue3LY                   2\n",
       "Bk-o2n2Ff                   2\n",
       "inVKh7F11                   2\n",
       "XXFwmxgUJ                   2\n",
       "Cm51jQuEs                   2\n",
       "ByjV5rZXX                   2\n",
       "gNwQLYK4P                   2\n",
       "PN71L5oPo                   2\n",
       "                         ... \n",
       "rOM6d22Dv                   1\n",
       "dwb_4pz7T                   1\n",
       "Rf7SaGLNg                   1\n",
       "wWJyglZ3e                   1\n",
       "7nCd_14KE                   1\n",
       "54LVL9r9N                   1\n",
       "xEZ145Sd0                   1\n",
       "H1znRZUAG                   1\n",
       "uOt1dL_n8                   1\n",
       "ENb9Vn7zE                   1\n",
       "zemsaP5DA                   1\n",
       "2HVyuZBsN                   1\n",
       "nxcjigyTf                   1\n",
       "Twitter                     1\n",
       "1s9sjRvod                   1\n",
       "gD9NLpzvJ                   1\n",
       "FUWt7693w                   1\n",
       "43AHkuZgO                   1\n",
       "vxmABM7Tg                   1\n",
       "IZXkK6jR0                   1\n",
       "nKfLrFHDI                   1\n",
       "wEsq98EFc                   1\n",
       "tGqw6BSbM                   1\n",
       "9gXyNhHaL                   1\n",
       "dkCqEZWCz                   1\n",
       "0T613cWy0                   1\n",
       "My8-pfbVU                   1\n",
       "wy4ec7NOo                   1\n",
       "3q1Al9LAw                   1\n",
       "n-5-txCYO                   1\n",
       "Name: x25, Length: 359, dtype: int64"
      ]
     },
     "execution_count": 232,
     "metadata": {},
     "output_type": "execute_result"
    }
   ],
   "source": [
    "df[\"x25\"].value_counts()"
   ]
  },
  {
   "cell_type": "code",
   "execution_count": 233,
   "metadata": {},
   "outputs": [
    {
     "data": {
      "text/plain": [
       "Bidalgo Facebook                    2669\n",
       "Default Facebook                    1257\n",
       "Play Games. Earn Money.              566\n",
       "Fortnite                             455\n",
       "LLC                                  342\n",
       "Amazon                               290\n",
       "Play Games Earn Money                269\n",
       "Gamer Giftcards                      259\n",
       "Copy Tests                           224\n",
       "Facebook                             207\n",
       "Google UAC                           158\n",
       "Fyber                                127\n",
       "Unity                                108\n",
       "Pirate Kings                         101\n",
       "Yahtzee                               97\n",
       "Mistplay Android/iOS                  97\n",
       "Clash of Clans                        80\n",
       "Starbucks                             54\n",
       "Campaign 2018-10-05 12:10:35:839      43\n",
       "Lookalike                             43\n",
       "Gamer GIftcards                       40\n",
       "Discover New Games                    36\n",
       "Snapchat                              32\n",
       "Clash Royale                          24\n",
       "Spiele Spielen                        18\n",
       "Final Fantasy                         13\n",
       "Yeahmobi                              12\n",
       "Applovin_EN                            9\n",
       "Appsamurai                             9\n",
       "Copy tests                             6\n",
       "Tapjoy                                 5\n",
       "Pokemon                                3\n",
       "Knights and Dragons                    2\n",
       "WWE                                    1\n",
       "Youtube Contest                        1\n",
       "Easy as 1                              1\n",
       "Name: x26, dtype: int64"
      ]
     },
     "execution_count": 233,
     "metadata": {},
     "output_type": "execute_result"
    }
   ],
   "source": [
    "df[\"x26\"].value_counts()"
   ]
  },
  {
   "cell_type": "code",
   "execution_count": 234,
   "metadata": {},
   "outputs": [
    {
     "data": {
      "text/plain": [
       "Fluent    342\n",
       "2           1\n",
       "Name: Unnamed: 27, dtype: int64"
      ]
     },
     "execution_count": 234,
     "metadata": {},
     "output_type": "execute_result"
    }
   ],
   "source": [
    "df[\"Unnamed: 27\"].value_counts()"
   ]
  },
  {
   "cell_type": "code",
   "execution_count": 235,
   "metadata": {},
   "outputs": [
    {
     "data": {
      "text/plain": [
       "3.0    1\n",
       "Name: Unnamed: 28, dtype: int64"
      ]
     },
     "execution_count": 235,
     "metadata": {},
     "output_type": "execute_result"
    }
   ],
   "source": [
    "df[\"Unnamed: 28\"].value_counts()"
   ]
  },
  {
   "cell_type": "code",
   "execution_count": 236,
   "metadata": {},
   "outputs": [
    {
     "name": "stdout",
     "output_type": "stream",
     "text": [
      "0.0% informations missing in the column: x2\n",
      "0.0% informations missing in the column: x3\n",
      "0.0% informations missing in the column: x4\n",
      "0.0% informations missing in the column: x5\n",
      "0.0% informations missing in the column: y\n",
      "0.0% informations missing in the column: x7\n",
      "0.0% informations missing in the column: x8\n",
      "0.0% informations missing in the column: x9\n",
      "0.0% informations missing in the column: x10\n",
      "0.0% informations missing in the column: x11\n",
      "0.0% informations missing in the column: x12\n",
      "0.0% informations missing in the column: x13\n",
      "0.0% informations missing in the column: x14\n",
      "0.0% informations missing in the column: x15\n",
      "0.0% informations missing in the column: x16\n",
      "0.0% informations missing in the column: x17\n",
      "0.0% informations missing in the column: x18\n",
      "0.0% informations missing in the column: x19\n",
      "0.0% informations missing in the column: x20\n",
      "0.0% informations missing in the column: x21\n",
      "0.0% informations missing in the column: x22\n",
      "0.0% informations missing in the column: x23\n",
      "0.1769176917691769% informations missing in the column: x24\n",
      "0.1769176917691769% informations missing in the column: x25\n",
      "0.23412341234123413% informations missing in the column: x26\n",
      "0.9656965696569657% informations missing in the column: Unnamed: 27\n",
      "0.9998999899989999% informations missing in the column: Unnamed: 28\n"
     ]
    }
   ],
   "source": [
    "total = len(df)\n",
    "for col in df.columns:\n",
    "    print(str((total - df[col].value_counts().sum())/total) + \"% informations missing in the column: \" + col)"
   ]
  },
  {
   "cell_type": "markdown",
   "metadata": {},
   "source": [
    "So much informations missing in fields: 'Unnamed: 27' and 'Unnamed: 28' so removing them is the best solution. Maybe doing the same thing for X24 X25 X26 cause 9999 lines is not really much to train a model (having so much categorical possibilities doesn't help too)."
   ]
  },
  {
   "cell_type": "code",
   "execution_count": 237,
   "metadata": {
    "collapsed": true
   },
   "outputs": [],
   "source": [
    "df.drop(\"Unnamed: 27\", axis=1, inplace=True)\n",
    "df.drop(\"Unnamed: 28\", axis=1, inplace=True)"
   ]
  },
  {
   "cell_type": "code",
   "execution_count": 238,
   "metadata": {},
   "outputs": [
    {
     "data": {
      "text/plain": [
       "y      1.000000\n",
       "x7     0.011200\n",
       "x9     0.013564\n",
       "x10   -0.006807\n",
       "x11   -0.001013\n",
       "x12    0.001218\n",
       "x13   -0.004151\n",
       "x14    0.010626\n",
       "x18   -0.004258\n",
       "x19   -0.001340\n",
       "x20    0.011757\n",
       "x21    0.000014\n",
       "x22   -0.007844\n",
       "Name: y, dtype: float64"
      ]
     },
     "execution_count": 238,
     "metadata": {},
     "output_type": "execute_result"
    }
   ],
   "source": [
    "df.corr()[\"y\"]"
   ]
  },
  {
   "cell_type": "markdown",
   "metadata": {},
   "source": [
    "There is no correlation between y and the other variables, but trying to plot y with other variables may help"
   ]
  },
  {
   "cell_type": "code",
   "execution_count": 239,
   "metadata": {},
   "outputs": [
    {
     "data": {
      "image/png": "[encoded data removed]",
      "text/plain": [
       "<Figure size 432x288 with 1 Axes>"
      ]
     },
     "metadata": {},
     "output_type": "display_data"
    }
   ],
   "source": [
    "plt.boxplot(df[\"y\"])\n",
    "plt.show()"
   ]
  },
  {
   "cell_type": "markdown",
   "metadata": {},
   "source": [
    "An outlier can be removed, let's see how much value are > to 400"
   ]
  },
  {
   "cell_type": "code",
   "execution_count": 240,
   "metadata": {},
   "outputs": [],
   "source": [
    "df.drop(df[df[\"y\"]>400].index, axis=0, inplace=True)"
   ]
  },
  {
   "cell_type": "code",
   "execution_count": 241,
   "metadata": {},
   "outputs": [
    {
     "data": {
      "image/png": "[encoded data removed]",
      "text/plain": [
       "<Figure size 432x288 with 1 Axes>"
      ]
     },
     "metadata": {},
     "output_type": "display_data"
    }
   ],
   "source": [
    "plt.boxplot(df[\"y\"])\n",
    "plt.show()"
   ]
  },
  {
   "cell_type": "markdown",
   "metadata": {},
   "source": [
    "In the Readme file it is specified that the problem must be binary classification so I will look to a value that will devied y into balanced target respecting the distribution."
   ]
  },
  {
   "cell_type": "code",
   "execution_count": 242,
   "metadata": {},
   "outputs": [
    {
     "data": {
      "text/plain": [
       "count    9998.000000\n",
       "mean        0.184996\n",
       "std         3.348493\n",
       "min         0.000000\n",
       "25%         0.000000\n",
       "50%         0.000000\n",
       "75%         0.000000\n",
       "max       206.810000\n",
       "Name: y, dtype: float64"
      ]
     },
     "execution_count": 242,
     "metadata": {},
     "output_type": "execute_result"
    }
   ],
   "source": [
    "df[\"y\"].describe()"
   ]
  },
  {
   "cell_type": "code",
   "execution_count": 243,
   "metadata": {},
   "outputs": [],
   "source": [
    "df[\"y2\"] = 0\n",
    "df.loc[df[\"y\"]!=0, \"y2\"] = 1"
   ]
  },
  {
   "cell_type": "code",
   "execution_count": 244,
   "metadata": {},
   "outputs": [
    {
     "data": {
      "text/plain": [
       "148"
      ]
     },
     "execution_count": 244,
     "metadata": {},
     "output_type": "execute_result"
    }
   ],
   "source": [
    "len(df[df[\"y2\"]==1])"
   ]
  },
  {
   "cell_type": "markdown",
   "metadata": {},
   "source": [
    "The dataset is really imbalanced, there is so much 0 and few 1. Using SMOTE will not help so much because synthetic data is not like real data and will fake the model learning which will no make difference between the 0 and 1."
   ]
  },
  {
   "cell_type": "code",
   "execution_count": 245,
   "metadata": {},
   "outputs": [
    {
     "data": {
      "text/plain": [
       "x2      object\n",
       "x3      object\n",
       "x4      object\n",
       "x5      object\n",
       "y      float64\n",
       "x7       int64\n",
       "x8      object\n",
       "x9       int64\n",
       "x10      int64\n",
       "x11    float64\n",
       "x12    float64\n",
       "x13    float64\n",
       "x14      int64\n",
       "x15     object\n",
       "x16     object\n",
       "x17     object\n",
       "x18      int64\n",
       "x19      int64\n",
       "x20      int64\n",
       "x21      int64\n",
       "x22      int64\n",
       "x23     object\n",
       "x24     object\n",
       "x25     object\n",
       "x26     object\n",
       "y2       int64\n",
       "dtype: object"
      ]
     },
     "execution_count": 245,
     "metadata": {},
     "output_type": "execute_result"
    }
   ],
   "source": [
    "df.dtypes"
   ]
  },
  {
   "cell_type": "code",
   "execution_count": 246,
   "metadata": {},
   "outputs": [
    {
     "data": {
      "image/png": "[encoded data removed]",
      "text/plain": [
       "<Figure size 432x288 with 1 Axes>"
      ]
     },
     "metadata": {},
     "output_type": "display_data"
    }
   ],
   "source": [
    "df[df[\"y2\"]==0][\"x2\"].value_counts().plot(kind='barh', subplots=True)\n",
    "plt.show()"
   ]
  },
  {
   "cell_type": "code",
   "execution_count": 247,
   "metadata": {},
   "outputs": [
    {
     "data": {
      "image/png": "[encoded data removed]",
      "text/plain": [
       "<Figure size 432x288 with 1 Axes>"
      ]
     },
     "metadata": {},
     "output_type": "display_data"
    }
   ],
   "source": [
    "df[df[\"y2\"]==1][\"x2\"].value_counts().plot(kind='barh', subplots=True)\n",
    "plt.show()"
   ]
  },
  {
   "cell_type": "code",
   "execution_count": 248,
   "metadata": {},
   "outputs": [
    {
     "data": {
      "image/png": "[encoded data removed]",
      "text/plain": [
       "<Figure size 432x288 with 1 Axes>"
      ]
     },
     "metadata": {},
     "output_type": "display_data"
    }
   ],
   "source": [
    "df[df[\"y2\"]==0][\"x5\"].value_counts().plot(kind='barh', subplots=True)\n",
    "plt.show()"
   ]
  },
  {
   "cell_type": "code",
   "execution_count": 249,
   "metadata": {},
   "outputs": [
    {
     "data": {
      "image/png": "[encoded data removed]",
      "text/plain": [
       "<Figure size 432x288 with 1 Axes>"
      ]
     },
     "metadata": {},
     "output_type": "display_data"
    }
   ],
   "source": [
    "df[df[\"y2\"]==1][\"x5\"].value_counts().plot(kind='barh', subplots=True)\n",
    "plt.show()"
   ]
  },
  {
   "cell_type": "code",
   "execution_count": 250,
   "metadata": {},
   "outputs": [
    {
     "data": {
      "image/png": "[encoded data removed]",
      "text/plain": [
       "<Figure size 432x288 with 1 Axes>"
      ]
     },
     "metadata": {},
     "output_type": "display_data"
    }
   ],
   "source": [
    "df[df[\"y2\"]==0][\"x8\"].value_counts().plot(kind='barh', subplots=True)\n",
    "plt.show()"
   ]
  },
  {
   "cell_type": "code",
   "execution_count": 251,
   "metadata": {},
   "outputs": [
    {
     "data": {
      "image/png": "[encoded data removed]",
      "text/plain": [
       "<Figure size 432x288 with 1 Axes>"
      ]
     },
     "metadata": {},
     "output_type": "display_data"
    }
   ],
   "source": [
    "df[df[\"y2\"]==1][\"x5\"].value_counts().plot(kind='barh', subplots=True)\n",
    "plt.show()"
   ]
  },
  {
   "cell_type": "code",
   "execution_count": 252,
   "metadata": {},
   "outputs": [
    {
     "data": {
      "image/png": "[encoded data removed]",
      "text/plain": [
       "<Figure size 432x288 with 1 Axes>"
      ]
     },
     "metadata": {},
     "output_type": "display_data"
    }
   ],
   "source": [
    "df[df[\"y2\"]==0][\"x16\"].value_counts().plot(kind='barh', subplots=True)\n",
    "plt.show()"
   ]
  },
  {
   "cell_type": "code",
   "execution_count": 253,
   "metadata": {},
   "outputs": [
    {
     "data": {
      "image/png": "[encoded data removed]",
      "text/plain": [
       "<Figure size 432x288 with 1 Axes>"
      ]
     },
     "metadata": {},
     "output_type": "display_data"
    }
   ],
   "source": [
    "df[df[\"y2\"]==1][\"x16\"].value_counts().plot(kind='barh', subplots=True)\n",
    "plt.show()"
   ]
  },
  {
   "cell_type": "code",
   "execution_count": 254,
   "metadata": {},
   "outputs": [
    {
     "data": {
      "image/png": "[encoded data removed]",
      "text/plain": [
       "<Figure size 432x288 with 1 Axes>"
      ]
     },
     "metadata": {},
     "output_type": "display_data"
    }
   ],
   "source": [
    "df[df[\"y2\"]==0][\"x17\"].value_counts().plot(kind='barh', subplots=True)\n",
    "plt.show()"
   ]
  },
  {
   "cell_type": "code",
   "execution_count": 255,
   "metadata": {},
   "outputs": [
    {
     "data": {
      "image/png": "[encoded data removed]",
      "text/plain": [
       "<Figure size 432x288 with 1 Axes>"
      ]
     },
     "metadata": {},
     "output_type": "display_data"
    }
   ],
   "source": [
    "df[df[\"y2\"]==1][\"x17\"].value_counts().plot(kind='barh', subplots=True)\n",
    "plt.show()"
   ]
  },
  {
   "cell_type": "code",
   "execution_count": 256,
   "metadata": {},
   "outputs": [
    {
     "data": {
      "image/png": "[encoded data removed]",
      "text/plain": [
       "<Figure size 432x288 with 1 Axes>"
      ]
     },
     "metadata": {},
     "output_type": "display_data"
    }
   ],
   "source": [
    "df[df[\"y2\"]==0][\"x23\"].value_counts().plot(kind='barh', subplots=True)\n",
    "plt.show()"
   ]
  },
  {
   "cell_type": "code",
   "execution_count": 257,
   "metadata": {},
   "outputs": [
    {
     "data": {
      "image/png": "[encoded data removed]",
      "text/plain": [
       "<Figure size 432x288 with 1 Axes>"
      ]
     },
     "metadata": {},
     "output_type": "display_data"
    }
   ],
   "source": [
    "df[df[\"y2\"]==1][\"x23\"].value_counts().plot(kind='barh', subplots=True)\n",
    "plt.show()"
   ]
  },
  {
   "cell_type": "markdown",
   "metadata": {},
   "source": [
    "Let's see how much do we lose informations if we remove x24 or x25 or x26 in term of Y2==1"
   ]
  },
  {
   "cell_type": "code",
   "execution_count": 258,
   "metadata": {},
   "outputs": [
    {
     "name": "stdout",
     "output_type": "stream",
     "text": [
      "X24:  27\n",
      "X25:  27\n",
      "X26:  32\n"
     ]
    }
   ],
   "source": [
    "print(\"X24: \", len(df[df[\"y2\"]==1]) - len(df[df[\"y2\"]==1][\"x24\"].dropna()))\n",
    "print(\"X25: \", len(df[df[\"y2\"]==1]) - len(df[df[\"y2\"]==1][\"x25\"].dropna()))\n",
    "print(\"X26: \", len(df[df[\"y2\"]==1]) - len(df[df[\"y2\"]==1][\"x26\"].dropna()))"
   ]
  },
  {
   "cell_type": "markdown",
   "metadata": {},
   "source": [
    "And now ratio 1 / 0"
   ]
  },
  {
   "cell_type": "code",
   "execution_count": 259,
   "metadata": {},
   "outputs": [
    {
     "name": "stdout",
     "output_type": "stream",
     "text": [
      "Before it was:  0.014802960592118424\n",
      "X24:  0.0032810791104629965\n",
      "X25:  0.0032810791104629965\n",
      "X26:  0.004179182447433721\n"
     ]
    }
   ],
   "source": [
    "print(\"Before it was: \", len(df[df[\"y2\"]==1])/len(df))\n",
    "print(\"X24: \", (len(df[df[\"y2\"]==1]) - len(df[df[\"y2\"]==1][\"x24\"].dropna()))/len(df[\"x24\"].dropna()))\n",
    "print(\"X25: \", (len(df[df[\"y2\"]==1]) - len(df[df[\"y2\"]==1][\"x25\"].dropna()))/len(df[\"x25\"].dropna()))\n",
    "print(\"X26: \", (len(df[df[\"y2\"]==1]) - len(df[df[\"y2\"]==1][\"x26\"].dropna()))/len(df[\"x26\"].dropna()))"
   ]
  },
  {
   "cell_type": "markdown",
   "metadata": {},
   "source": [
    "So using those variables will make the y2 which was 1,4% of the dataset go to 0,4% or less. \n",
    "Removing those columns is the best idea knowing they will also consume a lot in the training having so much possibilities"
   ]
  },
  {
   "cell_type": "code",
   "execution_count": 260,
   "metadata": {},
   "outputs": [],
   "source": [
    "df.drop(\"x24\", axis=1, inplace=True)\n",
    "df.drop(\"x25\", axis=1, inplace=True)\n",
    "df.drop(\"x26\", axis=1, inplace=True)\n",
    "df.drop(\"y\", axis=1, inplace=True)"
   ]
  },
  {
   "cell_type": "code",
   "execution_count": 269,
   "metadata": {},
   "outputs": [
    {
     "name": "stdout",
     "output_type": "stream",
     "text": [
      "The column x2 has: 18\n",
      "The column x3 has: 1319\n",
      "The column x4 has: 57\n",
      "The column x5 has: 3\n",
      "The column x8 has: 4\n",
      "The column x15 has: 114\n",
      "The column x16 has: 2\n",
      "The column x17 has: 6\n",
      "The column x23 has: 2\n"
     ]
    }
   ],
   "source": [
    "for i in df.dtypes[df.dtypes==object].index:\n",
    "    print(\"The column \" + i + \" has: \" + str(len(df[i].unique())))"
   ]
  },
  {
   "cell_type": "markdown",
   "metadata": {},
   "source": [
    "X3 is the device model. Adding the perfermonce of the phone can be a good idea and in general it is related to it's release year, but for sure it must be removed.\n",
    "\n",
    "X15 is the Brand but some duplications, must be cleaned and maybe in the future changed with category/quality (luxary, medium, not). \n",
    "\n",
    "X4 maybe too must be removed but we will look for it after"
   ]
  },
  {
   "cell_type": "code",
   "execution_count": 270,
   "metadata": {
    "collapsed": true
   },
   "outputs": [],
   "source": [
    "df.drop(\"x3\", axis=1, inplace=True)\n",
    "df.drop(\"x15\", axis=1, inplace=True)"
   ]
  },
  {
   "cell_type": "markdown",
   "metadata": {},
   "source": [
    "X7 is the age, converting it to Object and doing some ranges (0:15, 15:20, 20:25 ...)"
   ]
  },
  {
   "cell_type": "code",
   "execution_count": 286,
   "metadata": {},
   "outputs": [],
   "source": [
    "df[\"x30\"] = None\n",
    "for i in df.index:\n",
    "    age = df.at[i,\"x7\"]\n",
    "    if  age < 15:\n",
    "        df.at[i,\"x30\"] = '[0,15['\n",
    "    else:\n",
    "        for j in range(15,121,5):\n",
    "            if age-j <= 5:\n",
    "                df.at[i,\"x30\"] = '['+str(j)+','+str(j+5)+'['\n",
    "                break\n",
    "df.drop(\"x7\", axis=1, inplace=True)"
   ]
  },
  {
   "cell_type": "code",
   "execution_count": 287,
   "metadata": {
    "collapsed": true
   },
   "outputs": [],
   "source": [
    "types = df.dtypes\n",
    "for i in types.index:\n",
    "    if types[i] == object:\n",
    "        dummy = pd.get_dummies(df[i], prefix=i)\n",
    "        df.drop(i, axis=1, inplace=True)\n",
    "        df = pd.concat([df, dummy], axis=1)\n",
    "        "
   ]
  },
  {
   "cell_type": "code",
   "execution_count": 345,
   "metadata": {},
   "outputs": [],
   "source": [
    "from sklearn.model_selection import train_test_split\n",
    "from sklearn.neighbors import KNeighborsClassifier\n",
    "from sklearn.naive_bayes import GaussianNB\n",
    "from sklearn.gaussian_process.kernels import RBF\n",
    "from sklearn.tree import DecisionTreeClassifier\n",
    "from sklearn.ensemble import RandomForestClassifier, AdaBoostClassifier\n",
    "from sklearn.neural_network import MLPClassifier\n",
    "from sklearn.svm import SVC\n",
    "from xgboost import XGBClassifier\n",
    "from sklearn.linear_model import LogisticRegression\n",
    "\n",
    "clf_DT = DecisionTreeClassifier(criterion='gini', splitter='best', max_depth=10, \n",
    "                                min_samples_split=2, min_samples_leaf=1, \n",
    "                                min_weight_fraction_leaf=0.0, max_features=None, \n",
    "                                max_leaf_nodes=None, min_impurity_decrease=1e-07, random_state=42)\n",
    "clf_RF = RandomForestClassifier(n_estimators=50, criterion='gini', max_depth=10,\n",
    "                                min_samples_split=2, min_samples_leaf=1, min_weight_fraction_leaf=0.0,\n",
    "                                max_features='auto', max_leaf_nodes=None, min_impurity_decrease=1e-07, \n",
    "                                bootstrap=True, oob_score=False, n_jobs=1, \n",
    "                                random_state=1005, verbose=0, warm_start=False, class_weight=None)\n",
    "clf_SVM = SVC(C=10, class_weight=None, gamma='auto', kernel='rbf',\n",
    "              max_iter=-1, probability=True, random_state=42, verbose=False)\n",
    "clf_MLP = MLPClassifier(alpha=1e-05, hidden_layer_sizes=(64))\n",
    "\n",
    "classifiers = [KNeighborsClassifier(2), clf_DT, GaussianNB(), AdaBoostClassifier(n_estimators=500, learning_rate=0.1), clf_RF, \\\n",
    "                LogisticRegression(random_state=42), clf_SVM, clf_MLP, XGBClassifier(max_depth=30, learning_rate=0.01, n_estimators=750)]\n",
    "\n",
    "names = [\"KNN\",\"Decision Tree\", \"Naive Bayes\", \n",
    "         \"AdaBoost\", \"Random Forest\", \"Logistic Regression\", 'SVM',\"NN\",\"XGB\"]"
   ]
  },
  {
   "cell_type": "code",
   "execution_count": 346,
   "metadata": {
    "collapsed": true
   },
   "outputs": [],
   "source": [
    "trainingSetX, testingSetX, trainingSetY, testingSetY = train_test_split(df.drop(\"y2\", axis=1),df[\"y2\"], test_size = 0.5, random_state = 5)"
   ]
  },
  {
   "cell_type": "code",
   "execution_count": 349,
   "metadata": {},
   "outputs": [],
   "source": [
    "df_train = pd.concat([trainingSetX, trainingSetY], axis = 1)"
   ]
  },
  {
   "cell_type": "code",
   "execution_count": 347,
   "metadata": {},
   "outputs": [
    {
     "name": "stderr",
     "output_type": "stream",
     "text": [
      "D:\\Anaconda\\envs\\datascience\\lib\\site-packages\\sklearn\\metrics\\classification.py:1143: UndefinedMetricWarning: Precision is ill-defined and being set to 0.0 due to no predicted samples.\n",
      "  'precision', 'predicted', average, warn_for)\n",
      "D:\\Anaconda\\envs\\datascience\\lib\\site-packages\\sklearn\\metrics\\classification.py:1143: UndefinedMetricWarning: F-score is ill-defined and being set to 0.0 due to no predicted samples.\n",
      "  'precision', 'predicted', average, warn_for)\n",
      "D:\\Anaconda\\envs\\datascience\\lib\\site-packages\\sklearn\\metrics\\classification.py:1143: UndefinedMetricWarning: Precision is ill-defined and being set to 0.0 due to no predicted samples.\n",
      "  'precision', 'predicted', average, warn_for)\n",
      "D:\\Anaconda\\envs\\datascience\\lib\\site-packages\\sklearn\\metrics\\classification.py:1143: UndefinedMetricWarning: F-score is ill-defined and being set to 0.0 due to no predicted samples.\n",
      "  'precision', 'predicted', average, warn_for)\n",
      "D:\\Anaconda\\envs\\datascience\\lib\\site-packages\\sklearn\\metrics\\classification.py:1143: UndefinedMetricWarning: Precision is ill-defined and being set to 0.0 due to no predicted samples.\n",
      "  'precision', 'predicted', average, warn_for)\n",
      "D:\\Anaconda\\envs\\datascience\\lib\\site-packages\\sklearn\\metrics\\classification.py:1143: UndefinedMetricWarning: F-score is ill-defined and being set to 0.0 due to no predicted samples.\n",
      "  'precision', 'predicted', average, warn_for)\n",
      "D:\\Anaconda\\envs\\datascience\\lib\\site-packages\\sklearn\\linear_model\\logistic.py:433: FutureWarning: Default solver will be changed to 'lbfgs' in 0.22. Specify a solver to silence this warning.\n",
      "  FutureWarning)\n",
      "D:\\Anaconda\\envs\\datascience\\lib\\site-packages\\sklearn\\metrics\\classification.py:1143: UndefinedMetricWarning: Precision is ill-defined and being set to 0.0 due to no predicted samples.\n",
      "  'precision', 'predicted', average, warn_for)\n",
      "D:\\Anaconda\\envs\\datascience\\lib\\site-packages\\sklearn\\metrics\\classification.py:1143: UndefinedMetricWarning: F-score is ill-defined and being set to 0.0 due to no predicted samples.\n",
      "  'precision', 'predicted', average, warn_for)\n",
      "D:\\Anaconda\\envs\\datascience\\lib\\site-packages\\sklearn\\metrics\\classification.py:1143: UndefinedMetricWarning: Precision is ill-defined and being set to 0.0 due to no predicted samples.\n",
      "  'precision', 'predicted', average, warn_for)\n",
      "D:\\Anaconda\\envs\\datascience\\lib\\site-packages\\sklearn\\metrics\\classification.py:1143: UndefinedMetricWarning: F-score is ill-defined and being set to 0.0 due to no predicted samples.\n",
      "  'precision', 'predicted', average, warn_for)\n",
      "D:\\Anaconda\\envs\\datascience\\lib\\site-packages\\sklearn\\metrics\\classification.py:1143: UndefinedMetricWarning: Precision is ill-defined and being set to 0.0 due to no predicted samples.\n",
      "  'precision', 'predicted', average, warn_for)\n",
      "D:\\Anaconda\\envs\\datascience\\lib\\site-packages\\sklearn\\metrics\\classification.py:1143: UndefinedMetricWarning: F-score is ill-defined and being set to 0.0 due to no predicted samples.\n",
      "  'precision', 'predicted', average, warn_for)\n"
     ]
    }
   ],
   "source": [
    "from sklearn.metrics import log_loss, confusion_matrix, recall_score, precision_score, f1_score\n",
    "\n",
    "results = {}\n",
    "data = []\n",
    "for name, clf in zip(names, classifiers):\n",
    "    clf.fit(trainingSetX.values, trainingSetY)\n",
    "    \n",
    "    scores = {}\n",
    "\n",
    "    pred = clf.predict(testingSetX.values)\n",
    "    pred_proba = clf.predict_proba(testingSetX.values)\n",
    "    \n",
    "    conf_mat = confusion_matrix(testingSetY, pred)\n",
    "    scores[\"Confusion matrix\"] = conf_mat\n",
    "    \n",
    "    recall =  round(recall_score(testingSetY,pred), 3)\n",
    "    scores[\"Recall score\"] = recall\n",
    "    \n",
    "    precision = round(precision_score(testingSetY, pred), 3)\n",
    "    scores[\"Precision score\"] = precision\n",
    "    \n",
    "    f1 = round(f1_score(testingSetY, pred), 3)\n",
    "    scores[\"F1 score\"] = f1\n",
    "     \n",
    "\n",
    "    results[name] = scores"
   ]
  },
  {
   "cell_type": "code",
   "execution_count": 348,
   "metadata": {},
   "outputs": [
    {
     "data": {
      "text/html": [
       "<div>\n",
       "<style scoped>\n",
       "    .dataframe tbody tr th:only-of-type {\n",
       "        vertical-align: middle;\n",
       "    }\n",
       "\n",
       "    .dataframe tbody tr th {\n",
       "        vertical-align: top;\n",
       "    }\n",
       "\n",
       "    .dataframe thead th {\n",
       "        text-align: right;\n",
       "    }\n",
       "</style>\n",
       "<table border=\"1\" class=\"dataframe\">\n",
       "  <thead>\n",
       "    <tr style=\"text-align: right;\">\n",
       "      <th></th>\n",
       "      <th>AdaBoost</th>\n",
       "      <th>Decision Tree</th>\n",
       "      <th>KNN</th>\n",
       "      <th>Logistic Regression</th>\n",
       "      <th>NN</th>\n",
       "      <th>Naive Bayes</th>\n",
       "      <th>Random Forest</th>\n",
       "      <th>SVM</th>\n",
       "      <th>XGB</th>\n",
       "    </tr>\n",
       "  </thead>\n",
       "  <tbody>\n",
       "    <tr>\n",
       "      <th>Confusion matrix</th>\n",
       "      <td>[[4921, 0], [78, 0]]</td>\n",
       "      <td>[[4902, 19], [78, 0]]</td>\n",
       "      <td>[[4921, 0], [78, 0]]</td>\n",
       "      <td>[[4921, 0], [78, 0]]</td>\n",
       "      <td>[[4921, 0], [78, 0]]</td>\n",
       "      <td>[[698, 4223], [8, 70]]</td>\n",
       "      <td>[[4921, 0], [78, 0]]</td>\n",
       "      <td>[[4921, 0], [78, 0]]</td>\n",
       "      <td>[[4918, 3], [78, 0]]</td>\n",
       "    </tr>\n",
       "    <tr>\n",
       "      <th>F1 score</th>\n",
       "      <td>0</td>\n",
       "      <td>0</td>\n",
       "      <td>0</td>\n",
       "      <td>0</td>\n",
       "      <td>0</td>\n",
       "      <td>0.032</td>\n",
       "      <td>0</td>\n",
       "      <td>0</td>\n",
       "      <td>0</td>\n",
       "    </tr>\n",
       "    <tr>\n",
       "      <th>Precision score</th>\n",
       "      <td>0</td>\n",
       "      <td>0</td>\n",
       "      <td>0</td>\n",
       "      <td>0</td>\n",
       "      <td>0</td>\n",
       "      <td>0.016</td>\n",
       "      <td>0</td>\n",
       "      <td>0</td>\n",
       "      <td>0</td>\n",
       "    </tr>\n",
       "    <tr>\n",
       "      <th>Recall score</th>\n",
       "      <td>0</td>\n",
       "      <td>0</td>\n",
       "      <td>0</td>\n",
       "      <td>0</td>\n",
       "      <td>0</td>\n",
       "      <td>0.897</td>\n",
       "      <td>0</td>\n",
       "      <td>0</td>\n",
       "      <td>0</td>\n",
       "    </tr>\n",
       "  </tbody>\n",
       "</table>\n",
       "</div>"
      ],
      "text/plain": [
       "                              AdaBoost          Decision Tree  \\\n",
       "Confusion matrix  [[4921, 0], [78, 0]]  [[4902, 19], [78, 0]]   \n",
       "F1 score                             0                      0   \n",
       "Precision score                      0                      0   \n",
       "Recall score                         0                      0   \n",
       "\n",
       "                                   KNN   Logistic Regression  \\\n",
       "Confusion matrix  [[4921, 0], [78, 0]]  [[4921, 0], [78, 0]]   \n",
       "F1 score                             0                     0   \n",
       "Precision score                      0                     0   \n",
       "Recall score                         0                     0   \n",
       "\n",
       "                                    NN             Naive Bayes  \\\n",
       "Confusion matrix  [[4921, 0], [78, 0]]  [[698, 4223], [8, 70]]   \n",
       "F1 score                             0                   0.032   \n",
       "Precision score                      0                   0.016   \n",
       "Recall score                         0                   0.897   \n",
       "\n",
       "                         Random Forest                   SVM  \\\n",
       "Confusion matrix  [[4921, 0], [78, 0]]  [[4921, 0], [78, 0]]   \n",
       "F1 score                             0                     0   \n",
       "Precision score                      0                     0   \n",
       "Recall score                         0                     0   \n",
       "\n",
       "                                   XGB  \n",
       "Confusion matrix  [[4918, 3], [78, 0]]  \n",
       "F1 score                             0  \n",
       "Precision score                      0  \n",
       "Recall score                         0  "
      ]
     },
     "execution_count": 348,
     "metadata": {},
     "output_type": "execute_result"
    }
   ],
   "source": [
    "pd.DataFrame(results)"
   ]
  },
  {
   "cell_type": "markdown",
   "metadata": {},
   "source": [
    "Due to imbalance Dataset models can't make difference between targets"
   ]
  },
  {
   "cell_type": "code",
   "execution_count": 356,
   "metadata": {},
   "outputs": [],
   "source": [
    "from sklearn.utils import resample\n",
    "df_minority = df_train[df_train[\"y2\"]==1].copy()\n",
    "df_minority_upsampled = resample(df_minority, \n",
    "                                 replace=True,    \n",
    "                                 n_samples=4500,    \n",
    "                                 random_state=123) \n",
    "df2 = pd.concat([df_train, df_minority_upsampled])\n",
    "\n",
    "df2.reset_index(drop=True, inplace=True)\n",
    "#df.groupby('CLASS').size()"
   ]
  },
  {
   "cell_type": "code",
   "execution_count": 357,
   "metadata": {},
   "outputs": [],
   "source": [
    "trainingSetX, trainingSetY = df2.drop('y2',axis = 1), df2['y2']"
   ]
  },
  {
   "cell_type": "code",
   "execution_count": 358,
   "metadata": {},
   "outputs": [
    {
     "name": "stderr",
     "output_type": "stream",
     "text": [
      "D:\\Anaconda\\envs\\datascience\\lib\\site-packages\\sklearn\\linear_model\\logistic.py:433: FutureWarning: Default solver will be changed to 'lbfgs' in 0.22. Specify a solver to silence this warning.\n",
      "  FutureWarning)\n",
      "D:\\Anaconda\\envs\\datascience\\lib\\site-packages\\sklearn\\neural_network\\multilayer_perceptron.py:562: ConvergenceWarning: Stochastic Optimizer: Maximum iterations (200) reached and the optimization hasn't converged yet.\n",
      "  % self.max_iter, ConvergenceWarning)\n"
     ]
    }
   ],
   "source": [
    "results = {}\n",
    "data = []\n",
    "for name, clf in zip(names, classifiers):\n",
    "    clf.fit(trainingSetX.values, trainingSetY)\n",
    "    \n",
    "    scores = {}\n",
    "\n",
    "    pred = clf.predict(testingSetX.values)\n",
    "    pred_proba = clf.predict_proba(testingSetX.values)\n",
    "    \n",
    "    conf_mat = confusion_matrix(testingSetY, pred)\n",
    "    scores[\"Confusion matrix\"] = conf_mat\n",
    "    \n",
    "    recall =  round(recall_score(testingSetY,pred), 3)\n",
    "    scores[\"Recall score\"] = recall\n",
    "    \n",
    "    precision = round(precision_score(testingSetY, pred), 3)\n",
    "    scores[\"Precision score\"] = precision\n",
    "    \n",
    "    f1 = round(f1_score(testingSetY, pred), 3)\n",
    "    scores[\"F1 score\"] = f1\n",
    "     \n",
    "\n",
    "    results[name] = scores"
   ]
  },
  {
   "cell_type": "code",
   "execution_count": 359,
   "metadata": {},
   "outputs": [
    {
     "data": {
      "text/html": [
       "<div>\n",
       "<style scoped>\n",
       "    .dataframe tbody tr th:only-of-type {\n",
       "        vertical-align: middle;\n",
       "    }\n",
       "\n",
       "    .dataframe tbody tr th {\n",
       "        vertical-align: top;\n",
       "    }\n",
       "\n",
       "    .dataframe thead th {\n",
       "        text-align: right;\n",
       "    }\n",
       "</style>\n",
       "<table border=\"1\" class=\"dataframe\">\n",
       "  <thead>\n",
       "    <tr style=\"text-align: right;\">\n",
       "      <th></th>\n",
       "      <th>AdaBoost</th>\n",
       "      <th>Decision Tree</th>\n",
       "      <th>KNN</th>\n",
       "      <th>Logistic Regression</th>\n",
       "      <th>NN</th>\n",
       "      <th>Naive Bayes</th>\n",
       "      <th>Random Forest</th>\n",
       "      <th>SVM</th>\n",
       "      <th>XGB</th>\n",
       "    </tr>\n",
       "  </thead>\n",
       "  <tbody>\n",
       "    <tr>\n",
       "      <th>Confusion matrix</th>\n",
       "      <td>[[3688, 1233], [47, 31]]</td>\n",
       "      <td>[[4100, 821], [53, 25]]</td>\n",
       "      <td>[[4860, 61], [77, 1]]</td>\n",
       "      <td>[[3400, 1521], [47, 31]]</td>\n",
       "      <td>[[4714, 207], [72, 6]]</td>\n",
       "      <td>[[694, 4227], [8, 70]]</td>\n",
       "      <td>[[4674, 247], [72, 6]]</td>\n",
       "      <td>[[4692, 229], [73, 5]]</td>\n",
       "      <td>[[4900, 21], [78, 0]]</td>\n",
       "    </tr>\n",
       "    <tr>\n",
       "      <th>F1 score</th>\n",
       "      <td>0.046</td>\n",
       "      <td>0.054</td>\n",
       "      <td>0.014</td>\n",
       "      <td>0.038</td>\n",
       "      <td>0.041</td>\n",
       "      <td>0.032</td>\n",
       "      <td>0.036</td>\n",
       "      <td>0.032</td>\n",
       "      <td>0</td>\n",
       "    </tr>\n",
       "    <tr>\n",
       "      <th>Precision score</th>\n",
       "      <td>0.025</td>\n",
       "      <td>0.03</td>\n",
       "      <td>0.016</td>\n",
       "      <td>0.02</td>\n",
       "      <td>0.028</td>\n",
       "      <td>0.016</td>\n",
       "      <td>0.024</td>\n",
       "      <td>0.021</td>\n",
       "      <td>0</td>\n",
       "    </tr>\n",
       "    <tr>\n",
       "      <th>Recall score</th>\n",
       "      <td>0.397</td>\n",
       "      <td>0.321</td>\n",
       "      <td>0.013</td>\n",
       "      <td>0.397</td>\n",
       "      <td>0.077</td>\n",
       "      <td>0.897</td>\n",
       "      <td>0.077</td>\n",
       "      <td>0.064</td>\n",
       "      <td>0</td>\n",
       "    </tr>\n",
       "  </tbody>\n",
       "</table>\n",
       "</div>"
      ],
      "text/plain": [
       "                                  AdaBoost            Decision Tree  \\\n",
       "Confusion matrix  [[3688, 1233], [47, 31]]  [[4100, 821], [53, 25]]   \n",
       "F1 score                             0.046                    0.054   \n",
       "Precision score                      0.025                     0.03   \n",
       "Recall score                         0.397                    0.321   \n",
       "\n",
       "                                    KNN       Logistic Regression  \\\n",
       "Confusion matrix  [[4860, 61], [77, 1]]  [[3400, 1521], [47, 31]]   \n",
       "F1 score                          0.014                     0.038   \n",
       "Precision score                   0.016                      0.02   \n",
       "Recall score                      0.013                     0.397   \n",
       "\n",
       "                                      NN             Naive Bayes  \\\n",
       "Confusion matrix  [[4714, 207], [72, 6]]  [[694, 4227], [8, 70]]   \n",
       "F1 score                           0.041                   0.032   \n",
       "Precision score                    0.028                   0.016   \n",
       "Recall score                       0.077                   0.897   \n",
       "\n",
       "                           Random Forest                     SVM  \\\n",
       "Confusion matrix  [[4674, 247], [72, 6]]  [[4692, 229], [73, 5]]   \n",
       "F1 score                           0.036                   0.032   \n",
       "Precision score                    0.024                   0.021   \n",
       "Recall score                       0.077                   0.064   \n",
       "\n",
       "                                    XGB  \n",
       "Confusion matrix  [[4900, 21], [78, 0]]  \n",
       "F1 score                              0  \n",
       "Precision score                       0  \n",
       "Recall score                          0  "
      ]
     },
     "execution_count": 359,
     "metadata": {},
     "output_type": "execute_result"
    }
   ],
   "source": [
    "pd.DataFrame(results)"
   ]
  },
  {
   "cell_type": "markdown",
   "metadata": {},
   "source": [
    "As I expected even adding some synthetic data will not really improve results and make them perfect.\n",
    "\n",
    "All models are giving poor results due to the lack of data and the fact that it's imbalanced. More Data may help in term of rows and columns. Data engineering is also required in the brand column, model of the device too. There is a lot to do. Downsampling the DataSet is an idea but we will lose to much to make it to 200 - 300 rows (losing 9600 rows so 96% of Data).\n",
    "\n",
    "The best models are Decision tree, Adaboost and MLP. We will save Adaboost model and use it for the validation."
   ]
  },
  {
   "cell_type": "code",
   "execution_count": 365,
   "metadata": {},
   "outputs": [
    {
     "data": {
      "text/plain": [
       "AdaBoostClassifier(algorithm='SAMME.R', base_estimator=None,\n",
       "          learning_rate=0.01, n_estimators=500, random_state=None)"
      ]
     },
     "execution_count": 365,
     "metadata": {},
     "output_type": "execute_result"
    }
   ],
   "source": [
    "clf = AdaBoostClassifier(n_estimators=500, learning_rate=0.01)\n",
    "clf.fit(trainingSetX, trainingSetY)"
   ]
  },
  {
   "cell_type": "code",
   "execution_count": 368,
   "metadata": {},
   "outputs": [
    {
     "data": {
      "text/plain": [
       "{'Confusion matrix': array([[3320, 1601],\n",
       "        [  41,   37]], dtype=int64),\n",
       " 'F1 score': 0.043,\n",
       " 'Precision score': 0.023,\n",
       " 'Recall score': 0.474}"
      ]
     },
     "execution_count": 368,
     "metadata": {},
     "output_type": "execute_result"
    }
   ],
   "source": [
    "scores = {}\n",
    "\n",
    "pred = clf.predict(testingSetX.values)\n",
    "pred_proba = clf.predict_proba(testingSetX.values)\n",
    "\n",
    "conf_mat = confusion_matrix(testingSetY, pred)\n",
    "scores[\"Confusion matrix\"] = conf_mat\n",
    "\n",
    "recall =  round(recall_score(testingSetY,pred), 3)\n",
    "scores[\"Recall score\"] = recall\n",
    "\n",
    "precision = round(precision_score(testingSetY, pred), 3)\n",
    "scores[\"Precision score\"] = precision\n",
    "\n",
    "f1 = round(f1_score(testingSetY, pred), 3)\n",
    "scores[\"F1 score\"] = f1\n",
    "\n",
    "scores"
   ]
  },
  {
   "cell_type": "code",
   "execution_count": 369,
   "metadata": {
    "collapsed": true
   },
   "outputs": [],
   "source": [
    "import pickle\n",
    "pickle.dump(clf, open(\"model.sav\", 'wb'))"
   ]
  },
  {
   "cell_type": "code",
   "execution_count": 375,
   "metadata": {},
   "outputs": [
    {
     "name": "stdout",
     "output_type": "stream",
     "text": [
      "x9\n",
      "x10\n",
      "x11\n",
      "x12\n",
      "x13\n",
      "x14\n",
      "x18\n",
      "x19\n",
      "x20\n",
      "x21\n",
      "x22\n",
      "y2\n",
      "x2_4.4\n",
      "x2_4.4.2\n",
      "x2_4.4.3\n",
      "x2_4.4.4\n",
      "x2_5\n",
      "x2_5.0.1\n",
      "x2_5.0.2\n",
      "x2_5.1\n",
      "x2_5.1.1\n",
      "x2_6\n",
      "x2_6.0.1\n",
      "x2_7\n",
      "x2_7.1\n",
      "x2_7.1.1\n",
      "x2_7.1.2\n",
      "x2_8.0.0\n",
      "x2_8.1.0\n",
      "x2_9\n",
      "x4_AT\n",
      "x4_AT_DE\n",
      "x4_AU\n",
      "x4_AU_GB\n",
      "x4_AU_GB_US\n",
      "x4_AU_SG\n",
      "x4_BA\n",
      "x4_CA\n",
      "x4_CA_GB_US\n",
      "x4_CA_NZ_US\n",
      "x4_CA_US\n",
      "x4_CH\n",
      "x4_DE\n",
      "x4_DE_GB_US\n",
      "x4_DK\n",
      "x4_DK_LT\n",
      "x4_DK_SE\n",
      "x4_DK_US\n",
      "x4_DZ\n",
      "x4_ES\n",
      "x4_EU_GB\n",
      "x4_FI\n",
      "x4_FR\n",
      "x4_FR_RO\n",
      "x4_GB\n",
      "x4_GB_IL\n",
      "x4_GB_NL_US\n",
      "x4_GB_SG\n",
      "x4_GB_US\n",
      "x4_GH\n",
      "x4_GR\n",
      "x4_HK_SG\n",
      "x4_IE\n",
      "x4_IN\n",
      "x4_JP\n",
      "x4_KR\n",
      "x4_MX\n",
      "x4_MX_US\n",
      "x4_MY\n",
      "x4_NL\n",
      "x4_NO\n",
      "x4_NO_SE\n",
      "x4_NZ\n",
      "x4_NZ_US\n",
      "x4_PE\n",
      "x4_PL\n",
      "x4_PT\n",
      "x4_SA\n",
      "x4_SE\n",
      "x4_SG\n",
      "x4_SG_US\n",
      "x4_TH\n",
      "x4_TR\n",
      "x4_TR_US_VE\n",
      "x4_US\n",
      "x4_US_other\n",
      "x4_VN\n",
      "x5_0\n",
      "x5_1\n",
      "x5_2\n",
      "x8_0\n",
      "x8_1\n",
      "x8_2\n",
      "x8_3\n",
      "x16_0\n",
      "x16_1\n",
      "x17_4\n",
      "x17_5\n",
      "x17_6\n",
      "x17_7\n",
      "x17_8\n",
      "x17_9\n",
      "x23_FALSE\n",
      "x23_TRUE\n",
      "x30_[0,15[\n",
      "x30_[15,20[\n",
      "x30_[20,25[\n",
      "x30_[25,30[\n",
      "x30_[30,35[\n",
      "x30_[35,40[\n",
      "x30_[40,45[\n",
      "x30_[45,50[\n",
      "x30_[50,55[\n",
      "x30_[55,60[\n",
      "x30_[60,65[\n",
      "x30_[65,70[\n",
      "x30_[70,75[\n",
      "x30_[75,80[\n",
      "x30_[80,85[\n",
      "x30_[85,90[\n",
      "x30_[90,95[\n",
      "x30_[95,100[\n"
     ]
    }
   ],
   "source": [
    "for i in df.columns:\n",
    "    print(i)"
   ]
  },
  {
   "cell_type": "code",
   "execution_count": 377,
   "metadata": {},
   "outputs": [
    {
     "data": {
      "text/plain": [
       "['x9',\n",
       " 'x10',\n",
       " 'x11',\n",
       " 'x12',\n",
       " 'x13',\n",
       " 'x14',\n",
       " 'x18',\n",
       " 'x19',\n",
       " 'x20',\n",
       " 'x21',\n",
       " 'x22',\n",
       " 'y2',\n",
       " 'x2_4.4',\n",
       " 'x2_4.4.2',\n",
       " 'x2_4.4.3',\n",
       " 'x2_4.4.4',\n",
       " 'x2_5',\n",
       " 'x2_5.0.1',\n",
       " 'x2_5.0.2',\n",
       " 'x2_5.1',\n",
       " 'x2_5.1.1',\n",
       " 'x2_6',\n",
       " 'x2_6.0.1',\n",
       " 'x2_7',\n",
       " 'x2_7.1',\n",
       " 'x2_7.1.1',\n",
       " 'x2_7.1.2',\n",
       " 'x2_8.0.0',\n",
       " 'x2_8.1.0',\n",
       " 'x2_9',\n",
       " 'x4_AT',\n",
       " 'x4_AT_DE',\n",
       " 'x4_AU',\n",
       " 'x4_AU_GB',\n",
       " 'x4_AU_GB_US',\n",
       " 'x4_AU_SG',\n",
       " 'x4_BA',\n",
       " 'x4_CA',\n",
       " 'x4_CA_GB_US',\n",
       " 'x4_CA_NZ_US',\n",
       " 'x4_CA_US',\n",
       " 'x4_CH',\n",
       " 'x4_DE',\n",
       " 'x4_DE_GB_US',\n",
       " 'x4_DK',\n",
       " 'x4_DK_LT',\n",
       " 'x4_DK_SE',\n",
       " 'x4_DK_US',\n",
       " 'x4_DZ',\n",
       " 'x4_ES',\n",
       " 'x4_EU_GB',\n",
       " 'x4_FI',\n",
       " 'x4_FR',\n",
       " 'x4_FR_RO',\n",
       " 'x4_GB',\n",
       " 'x4_GB_IL',\n",
       " 'x4_GB_NL_US',\n",
       " 'x4_GB_SG',\n",
       " 'x4_GB_US',\n",
       " 'x4_GH',\n",
       " 'x4_GR',\n",
       " 'x4_HK_SG',\n",
       " 'x4_IE',\n",
       " 'x4_IN',\n",
       " 'x4_JP',\n",
       " 'x4_KR',\n",
       " 'x4_MX',\n",
       " 'x4_MX_US',\n",
       " 'x4_MY',\n",
       " 'x4_NL',\n",
       " 'x4_NO',\n",
       " 'x4_NO_SE',\n",
       " 'x4_NZ',\n",
       " 'x4_NZ_US',\n",
       " 'x4_PE',\n",
       " 'x4_PL',\n",
       " 'x4_PT',\n",
       " 'x4_SA',\n",
       " 'x4_SE',\n",
       " 'x4_SG',\n",
       " 'x4_SG_US',\n",
       " 'x4_TH',\n",
       " 'x4_TR',\n",
       " 'x4_TR_US_VE',\n",
       " 'x4_US',\n",
       " 'x4_US_other',\n",
       " 'x4_VN',\n",
       " 'x5_0',\n",
       " 'x5_1',\n",
       " 'x5_2',\n",
       " 'x8_0',\n",
       " 'x8_1',\n",
       " 'x8_2',\n",
       " 'x8_3',\n",
       " 'x16_0',\n",
       " 'x16_1',\n",
       " 'x17_4',\n",
       " 'x17_5',\n",
       " 'x17_6',\n",
       " 'x17_7',\n",
       " 'x17_8',\n",
       " 'x17_9',\n",
       " 'x23_FALSE',\n",
       " 'x23_TRUE',\n",
       " 'x30_[0,15[',\n",
       " 'x30_[15,20[',\n",
       " 'x30_[20,25[',\n",
       " 'x30_[25,30[',\n",
       " 'x30_[30,35[',\n",
       " 'x30_[35,40[',\n",
       " 'x30_[40,45[',\n",
       " 'x30_[45,50[',\n",
       " 'x30_[50,55[',\n",
       " 'x30_[55,60[',\n",
       " 'x30_[60,65[',\n",
       " 'x30_[65,70[',\n",
       " 'x30_[70,75[',\n",
       " 'x30_[75,80[',\n",
       " 'x30_[80,85[',\n",
       " 'x30_[85,90[',\n",
       " 'x30_[90,95[',\n",
       " 'x30_[95,100[']"
      ]
     },
     "execution_count": 377,
     "metadata": {},
     "output_type": "execute_result"
    }
   ],
   "source": [
    "df.columns.to_list()"
   ]
  }
 ],
 "metadata": {
  "kernelspec": {
   "display_name": "Python 3",
   "language": "python",
   "name": "python3"
  },
  "language_info": {
   "codemirror_mode": {
    "name": "ipython",
    "version": 3
   },
   "file_extension": ".py",
   "mimetype": "text/x-python",
   "name": "python",
   "nbconvert_exporter": "python",
   "pygments_lexer": "ipython3",
   "version": "3.5.4"
  },
  "latex_envs": {
   "LaTeX_envs_menu_present": true,
   "autoclose": false,
   "autocomplete": true,
   "bibliofile": "biblio.bib",
   "cite_by": "apalike",
   "current_citInitial": 1,
   "eqLabelWithNumbers": true,
   "eqNumInitial": 1,
   "hotkeys": {
    "equation": "Ctrl-E",
    "itemize": "Ctrl-I"
   },
   "labels_anchors": false,
   "latex_user_defs": false,
   "report_style_numbering": false,
   "user_envs_cfg": false
  }
 },
 "nbformat": 4,
 "nbformat_minor": 2
}
